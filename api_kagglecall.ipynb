{
 "cells": [
  {
   "cell_type": "markdown",
   "metadata": {},
   "source": [
    "## Reading API from kaggle dataset on 16000 Grab Restaurants\n",
    "https://www.kaggle.com/datasets/polartech/16000-grab-restaurants-in-singapore/data\n",
    "\n",
    "Firstly you need to install kaggle"
   ]
  },
  {
   "cell_type": "code",
   "execution_count": null,
   "metadata": {},
   "outputs": [],
   "source": [
    "!pip install kaggle"
   ]
  },
  {
   "cell_type": "markdown",
   "metadata": {},
   "source": [
    "### kaggle requires the api key to be in a specific location \n",
    "For windows the folder created should be in the location C:\\Users\\<Windows-username>\\.kaggle\\\n",
    "\n",
    "https://github.com/Kaggle/kaggle-api\n",
    "\n",
    "Create a cagle directory as suggested in the documentation. the .kaggle folder create below will be created as C:\\Users\\<Windows-username>\\.kaggle\\"
   ]
  },
  {
   "cell_type": "code",
   "execution_count": null,
   "metadata": {},
   "outputs": [],
   "source": [
    "!mkdir ~/.kaggle"
   ]
  },
  {
   "cell_type": "markdown",
   "metadata": {},
   "source": [
    "go to your kaggle account then click settings. Under the API section click Create New Token.\n",
    "\n",
    "You will download a kaggle.json file.\n",
    "Below command will copy the kaggle.json file into into your .kaggle folder you created"
   ]
  },
  {
   "cell_type": "code",
   "execution_count": 3,
   "metadata": {},
   "outputs": [],
   "source": [
    "#this command is for windows directory\n",
    "!cp C:\\Users\\T470\\Downloads\\kaggle.json C:\\Users\\T470\\.kaggle"
   ]
  },
  {
   "cell_type": "markdown",
   "metadata": {},
   "source": []
  },
  {
   "cell_type": "markdown",
   "metadata": {},
   "source": []
  }
 ],
 "metadata": {
  "kernelspec": {
   "display_name": "Python 3",
   "language": "python",
   "name": "python3"
  },
  "language_info": {
   "codemirror_mode": {
    "name": "ipython",
    "version": 3
   },
   "file_extension": ".py",
   "mimetype": "text/x-python",
   "name": "python",
   "nbconvert_exporter": "python",
   "pygments_lexer": "ipython3",
   "version": "3.11.4"
  }
 },
 "nbformat": 4,
 "nbformat_minor": 2
}
