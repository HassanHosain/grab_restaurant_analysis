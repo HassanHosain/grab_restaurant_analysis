{
 "cells": [
  {
   "cell_type": "code",
   "execution_count": 1,
   "metadata": {},
   "outputs": [
    {
     "name": "stdout",
     "output_type": "stream",
     "text": [
      "Requirement already satisfied: pycodestyle in c:\\users\\t470\\appdata\\local\\programs\\python\\python311\\lib\\site-packages (2.11.1)\n"
     ]
    },
    {
     "name": "stderr",
     "output_type": "stream",
     "text": [
      "\n",
      "[notice] A new release of pip is available: 23.3.1 -> 24.0\n",
      "[notice] To update, run: python.exe -m pip install --upgrade pip\n"
     ]
    }
   ],
   "source": [
    "!pip install pycodestyle"
   ]
  },
  {
   "cell_type": "code",
   "execution_count": 2,
   "metadata": {},
   "outputs": [
    {
     "name": "stdout",
     "output_type": "stream",
     "text": [
      "api_kagglecall.ipynb:8:80: E501 line too long (91 > 79 characters)\n",
      "api_kagglecall.ipynb:22:80: E501 line too long (140 > 79 characters)\n",
      "api_kagglecall.ipynb:23:80: E501 line too long (158 > 79 characters)\n",
      "api_kagglecall.ipynb:24:80: E501 line too long (158 > 79 characters)\n",
      "api_kagglecall.ipynb:25:80: E501 line too long (163 > 79 characters)\n",
      "api_kagglecall.ipynb:26:80: E501 line too long (157 > 79 characters)\n",
      "api_kagglecall.ipynb:27:80: E501 line too long (153 > 79 characters)\n",
      "api_kagglecall.ipynb:28:80: E501 line too long (162 > 79 characters)\n",
      "api_kagglecall.ipynb:29:80: E501 line too long (155 > 79 characters)\n",
      "api_kagglecall.ipynb:30:80: E501 line too long (154 > 79 characters)\n",
      "api_kagglecall.ipynb:31:80: E501 line too long (168 > 79 characters)\n",
      "api_kagglecall.ipynb:32:80: E501 line too long (181 > 79 characters)\n",
      "api_kagglecall.ipynb:33:80: E501 line too long (182 > 79 characters)\n",
      "api_kagglecall.ipynb:34:80: E501 line too long (168 > 79 characters)\n",
      "api_kagglecall.ipynb:35:80: E501 line too long (161 > 79 characters)\n",
      "api_kagglecall.ipynb:57:80: E501 line too long (106 > 79 characters)\n",
      "api_kagglecall.ipynb:61:80: E501 line too long (157 > 79 characters)\n",
      "api_kagglecall.ipynb:85:80: E501 line too long (101 > 79 characters)\n",
      "api_kagglecall.ipynb:88:80: E501 line too long (92 > 79 characters)\n",
      "api_kagglecall.ipynb:123:80: E501 line too long (91 > 79 characters)\n",
      "api_kagglecall.ipynb:144:80: E501 line too long (134 > 79 characters)\n",
      "api_kagglecall.ipynb:146:80: E501 line too long (86 > 79 characters)\n",
      "api_kagglecall.ipynb:173:80: E501 line too long (116 > 79 characters)\n",
      "api_kagglecall.ipynb:195:80: E501 line too long (106 > 79 characters)\n",
      "reading_csv.ipynb:12:80: E501 line too long (140 > 79 characters)\n",
      "reading_csv.ipynb:13:80: E501 line too long (165 > 79 characters)\n",
      "reading_csv.ipynb:14:80: E501 line too long (170 > 79 characters)\n",
      "reading_csv.ipynb:15:80: E501 line too long (167 > 79 characters)\n",
      "reading_csv.ipynb:16:80: E501 line too long (163 > 79 characters)\n",
      "reading_csv.ipynb:17:80: E501 line too long (180 > 79 characters)\n",
      "reading_csv.ipynb:88:80: E501 line too long (85 > 79 characters)\n",
      "reading_csv.ipynb:93:80: E501 line too long (82 > 79 characters)\n",
      "reading_csv.ipynb:110:80: E501 line too long (84 > 79 characters)\n",
      "reading_csv.ipynb:115:80: E501 line too long (82 > 79 characters)\n",
      "reading_csv.ipynb:132:80: E501 line too long (82 > 79 characters)\n",
      "reading_csv.ipynb:137:80: E501 line too long (82 > 79 characters)\n",
      "reading_csv.ipynb:154:80: E501 line too long (85 > 79 characters)\n",
      "reading_csv.ipynb:159:80: E501 line too long (82 > 79 characters)\n",
      "reading_csv.ipynb:181:80: E501 line too long (82 > 79 characters)\n",
      "reading_csv.ipynb:197:80: E501 line too long (91 > 79 characters)\n",
      "reading_csv.ipynb:198:80: E501 line too long (90 > 79 characters)\n",
      "reading_csv.ipynb:199:80: E501 line too long (90 > 79 characters)\n",
      "reading_csv.ipynb:200:80: E501 line too long (90 > 79 characters)\n",
      "reading_csv.ipynb:201:80: E501 line too long (90 > 79 characters)\n",
      "reading_csv.ipynb:202:80: E501 line too long (90 > 79 characters)\n",
      "reading_csv.ipynb:204:80: E501 line too long (92 > 79 characters)\n",
      "reading_csv.ipynb:205:80: E501 line too long (100 > 79 characters)\n",
      "reading_csv.ipynb:206:80: E501 line too long (99 > 79 characters)\n",
      "reading_csv.ipynb:207:80: E501 line too long (97 > 79 characters)\n",
      "reading_csv.ipynb:208:80: E501 line too long (100 > 79 characters)\n",
      "reading_csv.ipynb:209:80: E501 line too long (99 > 79 characters)\n",
      "reading_csv.ipynb:211:80: E501 line too long (90 > 79 characters)\n",
      "reading_csv.ipynb:212:80: E501 line too long (95 > 79 characters)\n",
      "reading_csv.ipynb:213:80: E501 line too long (95 > 79 characters)\n",
      "reading_csv.ipynb:214:80: E501 line too long (95 > 79 characters)\n",
      "reading_csv.ipynb:215:80: E501 line too long (95 > 79 characters)\n",
      "reading_csv.ipynb:216:80: E501 line too long (95 > 79 characters)\n",
      "reading_csv.ipynb:218:80: E501 line too long (84 > 79 characters)\n",
      "reading_csv.ipynb:219:80: E501 line too long (83 > 79 characters)\n",
      "reading_csv.ipynb:220:80: E501 line too long (83 > 79 characters)\n",
      "reading_csv.ipynb:221:80: E501 line too long (83 > 79 characters)\n",
      "reading_csv.ipynb:222:80: E501 line too long (83 > 79 characters)\n",
      "reading_csv.ipynb:223:80: E501 line too long (83 > 79 characters)\n",
      "reading_csv.ipynb:232:80: E501 line too long (89 > 79 characters)\n",
      "reading_csv.ipynb:233:80: E501 line too long (88 > 79 characters)\n",
      "reading_csv.ipynb:234:80: E501 line too long (88 > 79 characters)\n",
      "reading_csv.ipynb:235:80: E501 line too long (88 > 79 characters)\n",
      "reading_csv.ipynb:236:80: E501 line too long (88 > 79 characters)\n",
      "reading_csv.ipynb:237:80: E501 line too long (88 > 79 characters)\n",
      "reading_csv.ipynb:306:80: E501 line too long (105 > 79 characters)\n",
      "reading_csv.ipynb:307:80: E501 line too long (105 > 79 characters)\n",
      "reading_csv.ipynb:308:80: E501 line too long (1650 > 79 characters)\n",
      "reading_csv.ipynb:309:80: E501 line too long (1356 > 79 characters)\n",
      "reading_csv.ipynb:310:80: E501 line too long (89 > 79 characters)\n",
      "reading_csv.ipynb:326:80: E501 line too long (94 > 79 characters)\n",
      "reading_csv.ipynb:327:80: E501 line too long (116 > 79 characters)\n",
      "{'E501': 'line too long (91 > 79 characters)'}\n"
     ]
    }
   ],
   "source": [
    "# Import needed package\n",
    "import pycodestyle\n",
    "\n",
    "# Create a StyleGuide instance\n",
    "style_checker = pycodestyle.StyleGuide()\n",
    "\n",
    "# Run PEP 8 check on multiple files\n",
    "result = style_checker.check_files(['api_kagglecall.ipynb', 'reading_csv.ipynb'])\n",
    "\n",
    "# Print result of PEP 8 style check\n",
    "print(result.messages)\n"
   ]
  }
 ],
 "metadata": {
  "kernelspec": {
   "display_name": "Python 3",
   "language": "python",
   "name": "python3"
  },
  "language_info": {
   "codemirror_mode": {
    "name": "ipython",
    "version": 3
   },
   "file_extension": ".py",
   "mimetype": "text/x-python",
   "name": "python",
   "nbconvert_exporter": "python",
   "pygments_lexer": "ipython3",
   "version": "3.11.4"
  }
 },
 "nbformat": 4,
 "nbformat_minor": 2
}
