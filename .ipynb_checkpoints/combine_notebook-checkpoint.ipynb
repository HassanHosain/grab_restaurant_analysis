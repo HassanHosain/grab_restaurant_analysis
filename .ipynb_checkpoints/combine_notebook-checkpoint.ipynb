{
 "cells": [
  {
   "cell_type": "code",
   "execution_count": 4,
   "id": "a5a29528-0771-470b-9483-b7204dc4eb0c",
   "metadata": {},
   "outputs": [
    {
     "name": "stdout",
     "output_type": "stream",
     "text": [
      "Combined notebook saved to: combined_notebook.ipynb\n"
     ]
    }
   ],
   "source": [
    "import nbformat\n",
    "from nbformat import v4 as nbf\n",
    "\n",
    "# List of notebook file paths\n",
    "notebook_files = [\n",
    "    \"reading_csv_saila.ipynb\",\n",
    "    \"reading_csv_hassan.ipynb\",\n",
    "    \"rosni_grab_restaurant.ipynb\",\n",
    "    \"openinghour_df.ipynb\"\n",
    "]\n",
    "\n",
    "# Create a new notebook object\n",
    "combined_notebook = nbf.new_notebook()\n",
    "\n",
    "# Iterate over each notebook file\n",
    "for file_path in notebook_files:\n",
    "    # Read notebook file\n",
    "    with open(file_path, \"r\", encoding=\"utf-8\") as f:\n",
    "        notebook_content = nbformat.read(f, as_version=4)\n",
    "\n",
    "    # Extract cells from notebook content\n",
    "    cells = notebook_content[\"cells\"]\n",
    "\n",
    "    # Add cells to combined notebook\n",
    "    combined_notebook.cells.extend(cells)\n",
    "\n",
    "# Write combined notebook to a new file\n",
    "combined_file_path = \"combined_notebook.ipynb\"\n",
    "with open(combined_file_path, \"w\", encoding=\"utf-8\") as f:\n",
    "    nbformat.write(combined_notebook, f)\n",
    "\n",
    "print(f\"Combined notebook saved to: {combined_file_path}\")\n"
   ]
  },
  {
   "cell_type": "code",
   "execution_count": 5,
   "id": "af802d94-b1ee-4214-93fd-acfc1ee00ec0",
   "metadata": {},
   "outputs": [
    {
     "ename": "FileNotFoundError",
     "evalue": "[Errno 2] No such file or directory: 'Desktop/project/grab_restaurant_analysis/combine_notebook.ipynb'",
     "output_type": "error",
     "traceback": [
      "\u001b[1;31m---------------------------------------------------------------------------\u001b[0m",
      "\u001b[1;31mFileNotFoundError\u001b[0m                         Traceback (most recent call last)",
      "Cell \u001b[1;32mIn[5], line 5\u001b[0m\n\u001b[0;32m      3\u001b[0m \u001b[38;5;66;03m# Load the notebook\u001b[39;00m\n\u001b[0;32m      4\u001b[0m notebook_path \u001b[38;5;241m=\u001b[39m \u001b[38;5;124m\"\u001b[39m\u001b[38;5;124mDesktop/project/grab_restaurant_analysis/combine_notebook.ipynb\u001b[39m\u001b[38;5;124m\"\u001b[39m\n\u001b[1;32m----> 5\u001b[0m \u001b[38;5;28;01mwith\u001b[39;00m \u001b[38;5;28mopen\u001b[39m(notebook_path, \u001b[38;5;124m\"\u001b[39m\u001b[38;5;124mr\u001b[39m\u001b[38;5;124m\"\u001b[39m, encoding\u001b[38;5;241m=\u001b[39m\u001b[38;5;124m\"\u001b[39m\u001b[38;5;124mutf-8\u001b[39m\u001b[38;5;124m\"\u001b[39m) \u001b[38;5;28;01mas\u001b[39;00m f:\n\u001b[0;32m      6\u001b[0m     notebook_content \u001b[38;5;241m=\u001b[39m nbformat\u001b[38;5;241m.\u001b[39mread(f, as_version\u001b[38;5;241m=\u001b[39m\u001b[38;5;241m4\u001b[39m)\n\u001b[0;32m      8\u001b[0m \u001b[38;5;66;03m# Normalize the notebook to add missing 'id' fields\u001b[39;00m\n",
      "File \u001b[1;32m~\\anaconda3\\Lib\\site-packages\\IPython\\core\\interactiveshell.py:310\u001b[0m, in \u001b[0;36m_modified_open\u001b[1;34m(file, *args, **kwargs)\u001b[0m\n\u001b[0;32m    303\u001b[0m \u001b[38;5;28;01mif\u001b[39;00m file \u001b[38;5;129;01min\u001b[39;00m {\u001b[38;5;241m0\u001b[39m, \u001b[38;5;241m1\u001b[39m, \u001b[38;5;241m2\u001b[39m}:\n\u001b[0;32m    304\u001b[0m     \u001b[38;5;28;01mraise\u001b[39;00m \u001b[38;5;167;01mValueError\u001b[39;00m(\n\u001b[0;32m    305\u001b[0m         \u001b[38;5;124mf\u001b[39m\u001b[38;5;124m\"\u001b[39m\u001b[38;5;124mIPython won\u001b[39m\u001b[38;5;124m'\u001b[39m\u001b[38;5;124mt let you open fd=\u001b[39m\u001b[38;5;132;01m{\u001b[39;00mfile\u001b[38;5;132;01m}\u001b[39;00m\u001b[38;5;124m by default \u001b[39m\u001b[38;5;124m\"\u001b[39m\n\u001b[0;32m    306\u001b[0m         \u001b[38;5;124m\"\u001b[39m\u001b[38;5;124mas it is likely to crash IPython. If you know what you are doing, \u001b[39m\u001b[38;5;124m\"\u001b[39m\n\u001b[0;32m    307\u001b[0m         \u001b[38;5;124m\"\u001b[39m\u001b[38;5;124myou can use builtins\u001b[39m\u001b[38;5;124m'\u001b[39m\u001b[38;5;124m open.\u001b[39m\u001b[38;5;124m\"\u001b[39m\n\u001b[0;32m    308\u001b[0m     )\n\u001b[1;32m--> 310\u001b[0m \u001b[38;5;28;01mreturn\u001b[39;00m io_open(file, \u001b[38;5;241m*\u001b[39margs, \u001b[38;5;241m*\u001b[39m\u001b[38;5;241m*\u001b[39mkwargs)\n",
      "\u001b[1;31mFileNotFoundError\u001b[0m: [Errno 2] No such file or directory: 'Desktop/project/grab_restaurant_analysis/combine_notebook.ipynb'"
     ]
    }
   ],
   "source": [
    "import nbformat\n",
    "\n",
    "# Load the notebook\n",
    "notebook_path = \"Desktop/project/grab_restaurant_analysis/combine_notebook.ipynb\"\n",
    "with open(notebook_path, \"r\", encoding=\"utf-8\") as f:\n",
    "    notebook_content = nbformat.read(f, as_version=4)\n",
    "\n",
    "# Normalize the notebook to add missing 'id' fields\n",
    "normalized_notebook = nbformat.v4.normalize(notebook_content)\n",
    "\n",
    "# Write the normalized notebook back to the file\n",
    "normalized_notebook_path = \"Desktop/project/grab_restaurant_analysis/combine_notebook_normalized.ipynb\"\n",
    "with open(normalized_notebook_path, \"w\", encoding=\"utf-8\") as f:\n",
    "    nbformat.write(normalized_notebook, f)\n",
    "\n",
    "print(f\"Normalized notebook saved to: {normalized_notebook_path}\")\n"
   ]
  },
  {
   "cell_type": "code",
   "execution_count": null,
   "id": "3d7ad23e-bd4f-4ee1-8476-0bfb849177c5",
   "metadata": {},
   "outputs": [],
   "source": []
  }
 ],
 "metadata": {
  "kernelspec": {
   "display_name": "Python 3 (ipykernel)",
   "language": "python",
   "name": "python3"
  },
  "language_info": {
   "codemirror_mode": {
    "name": "ipython",
    "version": 3
   },
   "file_extension": ".py",
   "mimetype": "text/x-python",
   "name": "python",
   "nbconvert_exporter": "python",
   "pygments_lexer": "ipython3",
   "version": "3.11.7"
  }
 },
 "nbformat": 4,
 "nbformat_minor": 5
}
