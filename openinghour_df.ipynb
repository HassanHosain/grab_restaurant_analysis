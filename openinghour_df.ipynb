{
 "cells": [
  {
   "cell_type": "markdown",
   "id": "e568fdc6",
   "metadata": {},
   "source": [
    "### establishment opening hours dataframe"
   ]
  },
  {
   "cell_type": "markdown",
   "id": "c318198a",
   "metadata": {},
   "source": [
    "### Creating grab_df and subsetting opening hours column"
   ]
  },
  {
   "cell_type": "code",
   "execution_count": 5,
   "id": "fc393fc7",
   "metadata": {},
   "outputs": [
    {
     "data": {
      "text/html": [
       "<div>\n",
       "<style scoped>\n",
       "    .dataframe tbody tr th:only-of-type {\n",
       "        vertical-align: middle;\n",
       "    }\n",
       "\n",
       "    .dataframe tbody tr th {\n",
       "        vertical-align: top;\n",
       "    }\n",
       "\n",
       "    .dataframe thead th {\n",
       "        text-align: right;\n",
       "    }\n",
       "</style>\n",
       "<table border=\"1\" class=\"dataframe\">\n",
       "  <thead>\n",
       "    <tr style=\"text-align: right;\">\n",
       "      <th></th>\n",
       "      <th>opening_hours</th>\n",
       "    </tr>\n",
       "  </thead>\n",
       "  <tbody>\n",
       "    <tr>\n",
       "      <th>0</th>\n",
       "      <td>{\"open\": true, \"displayedHours\": \"10:30-21:30\"...</td>\n",
       "    </tr>\n",
       "    <tr>\n",
       "      <th>1</th>\n",
       "      <td>{\"open\": true, \"displayedHours\": \"12:00-19:00\"...</td>\n",
       "    </tr>\n",
       "    <tr>\n",
       "      <th>2</th>\n",
       "      <td>{\"open\": true, \"displayedHours\": \"11:30-20:45\"...</td>\n",
       "    </tr>\n",
       "    <tr>\n",
       "      <th>3</th>\n",
       "      <td>{\"open\": true, \"displayedHours\": \"11:00-21:00\"...</td>\n",
       "    </tr>\n",
       "    <tr>\n",
       "      <th>4</th>\n",
       "      <td>{\"open\": true, \"displayedHours\": \"10:30-21:00\"...</td>\n",
       "    </tr>\n",
       "  </tbody>\n",
       "</table>\n",
       "</div>"
      ],
      "text/plain": [
       "                                       opening_hours\n",
       "0  {\"open\": true, \"displayedHours\": \"10:30-21:30\"...\n",
       "1  {\"open\": true, \"displayedHours\": \"12:00-19:00\"...\n",
       "2  {\"open\": true, \"displayedHours\": \"11:30-20:45\"...\n",
       "3  {\"open\": true, \"displayedHours\": \"11:00-21:00\"...\n",
       "4  {\"open\": true, \"displayedHours\": \"10:30-21:00\"..."
      ]
     },
     "execution_count": 5,
     "metadata": {},
     "output_type": "execute_result"
    }
   ],
   "source": [
    "import pandas as pd\n",
    "\n",
    "# import grab dataset\n",
    "grab_df = pd.read_csv(\"data/Grab SG Restaurants.csv\")\n",
    "\n",
    "# subset openinghour df with records being dictionaries\n",
    "op_hours_dict_df = grab_df[[\"opening_hours\"]]\n",
    "\n",
    "op_hours_dict_df.head()"
   ]
  },
  {
   "cell_type": "markdown",
   "id": "b405c8dc",
   "metadata": {},
   "source": [
    "#### Cleaning the column of dictionaries"
   ]
  },
  {
   "cell_type": "code",
   "execution_count": 6,
   "id": "4b7dbc99",
   "metadata": {},
   "outputs": [
    {
     "name": "stdout",
     "output_type": "stream",
     "text": [
      "                                           opening_hours\n",
      "0      {'open': 'True', 'displayedHours': '10:30-21:3...\n",
      "1      {'open': 'True', 'displayedHours': '12:00-19:0...\n",
      "2      {'open': 'True', 'displayedHours': '11:30-20:4...\n",
      "3      {'open': 'True', 'displayedHours': '11:00-21:0...\n",
      "4      {'open': 'True', 'displayedHours': '10:30-21:0...\n",
      "...                                                  ...\n",
      "16131  {'displayedHours': 'Closed', 'sun': 'Closed', ...\n",
      "16132  {'displayedHours': 'Closed', 'sun': '12:00-14:...\n",
      "16133  {'displayedHours': 'Closed', 'sun': '11:00-22:...\n",
      "16134  {'displayedHours': 'Closed', 'sun': '09:00-22:...\n",
      "16135  {'displayedHours': 'Closed', 'sun': 'Closed', ...\n",
      "\n",
      "[16136 rows x 1 columns]\n",
      "<class 'pandas.core.frame.DataFrame'>\n"
     ]
    }
   ],
   "source": [
    "# replacing \" \" in the dictionary to ' '\n",
    "op_hours_dict_df = op_hours_dict_df['opening_hours'].str.replace('\"',\"'\")\n",
    "op_hours_dict_df = pd.DataFrame(op_hours_dict_df)\n",
    "\n",
    "# replacing 'true' to 'True'\n",
    "op_hours_dict_df = op_hours_dict_df['opening_hours'].str.replace('true',\"'True'\")\n",
    "op_hours_dict_df = pd.DataFrame(op_hours_dict_df)\n",
    "\n",
    "print(op_hours_dict_df)\n",
    "print(type(op_hours_dict_df))"
   ]
  },
  {
   "cell_type": "markdown",
   "id": "40366199",
   "metadata": {},
   "source": [
    "#### Splitting the dictionaries into separate columns in a dataframe"
   ]
  },
  {
   "cell_type": "code",
   "execution_count": 7,
   "id": "755a01d5",
   "metadata": {},
   "outputs": [
    {
     "name": "stdout",
     "output_type": "stream",
     "text": [
      "       open displayedHours                      sun                      mon  \\\n",
      "0      True    10:30-21:30              10:30-21:30              10:30-21:15   \n",
      "1      True    12:00-19:00              12:00-19:00              12:00-19:00   \n",
      "2      True    11:30-20:45              11:30-20:45              11:30-20:45   \n",
      "3      True    11:00-21:00              11:00-21:00              11:00-21:00   \n",
      "4      True    10:30-21:00              11:00-21:30              11:00-21:30   \n",
      "...     ...            ...                      ...                      ...   \n",
      "16131   NaN         Closed                   Closed              07:00-13:00   \n",
      "16132   NaN         Closed  12:00-14:00 17:30-21:30  12:00-14:00 17:30-21:30   \n",
      "16133   NaN         Closed              11:00-22:15  11:00-14:45 18:00-22:15   \n",
      "16134   NaN         Closed              09:00-22:00              06:30-22:00   \n",
      "16135   NaN         Closed                   Closed              07:00-15:00   \n",
      "\n",
      "                           tue                      wed  \\\n",
      "0                  10:30-21:15              10:30-21:15   \n",
      "1                  12:00-19:00              12:00-19:00   \n",
      "2                  11:30-20:45              11:30-20:45   \n",
      "3                  11:00-21:00              11:00-21:00   \n",
      "4                  11:00-21:30              11:00-21:30   \n",
      "...                        ...                      ...   \n",
      "16131                   Closed                   Closed   \n",
      "16132  12:00-14:00 17:30-21:30  12:00-14:00 17:30-21:30   \n",
      "16133                   Closed  11:00-14:45 18:00-22:15   \n",
      "16134              06:30-22:00              06:30-22:00   \n",
      "16135              07:00-15:00              07:00-15:00   \n",
      "\n",
      "                           thu          fri          sat tempClosed  \n",
      "0                  10:30-21:15  10:30-21:15  10:30-21:30        NaN  \n",
      "1                  12:00-19:00  12:00-19:00  12:00-19:00        NaN  \n",
      "2                  11:30-20:45  11:30-20:45  11:30-20:45        NaN  \n",
      "3                  11:00-21:00  11:00-21:00  11:00-21:00        NaN  \n",
      "4                  11:00-21:30  11:00-21:30  11:00-21:30        NaN  \n",
      "...                        ...          ...          ...        ...  \n",
      "16131                   Closed       Closed       Closed       True  \n",
      "16132  12:00-14:00 17:30-21:30  12:00-14:00  12:00-14:00        NaN  \n",
      "16133  11:00-14:45 18:00-22:15  11:00-22:45  11:00-22:45        NaN  \n",
      "16134              06:30-22:00  06:30-22:00  06:30-22:00        NaN  \n",
      "16135              07:00-15:00  07:00-15:00  07:00-15:00        NaN  \n",
      "\n",
      "[16136 rows x 10 columns]\n"
     ]
    }
   ],
   "source": [
    "import ast\n",
    "from pandas import json_normalize\n",
    "\n",
    "# Ensure that the column is in a proper list of dictionaries format\n",
    "op_hours_dict_df['opening_hours'] = op_hours_dict_df['opening_hours'].apply(ast.literal_eval)\n",
    "\n",
    "# Use json_normalize to convert the dictionaries into separate columns\n",
    "op_hours_dict_df_expanded = op_hours_dict_df.join(json_normalize(op_hours_dict_df['opening_hours'])).drop('opening_hours', axis=1)\n",
    "\n",
    "print(op_hours_dict_df_expanded)\n"
   ]
  },
  {
   "cell_type": "markdown",
   "id": "d5278018",
   "metadata": {},
   "source": [
    "#### Joining id_source column from grab_df to op_hours_dict_df_expanded"
   ]
  },
  {
   "cell_type": "code",
   "execution_count": 8,
   "id": "e278f7b5",
   "metadata": {},
   "outputs": [
    {
     "name": "stdout",
     "output_type": "stream",
     "text": [
      "              id_source  open displayedHours                      sun  \\\n",
      "0             SGDD01085  True    10:30-21:30              10:30-21:30   \n",
      "1      4-CYTDLPUJEP53N6  True    12:00-19:00              12:00-19:00   \n",
      "2             SGDD05605  True    11:30-20:45              11:30-20:45   \n",
      "3             SGDD07548  True    11:00-21:00              11:00-21:00   \n",
      "4      4-CY2ZLZLTT2EDJ2  True    10:30-21:00              11:00-21:30   \n",
      "...                 ...   ...            ...                      ...   \n",
      "16131  4-CZNFTYKKVA3UN2   NaN         Closed                   Closed   \n",
      "16132         SGDD01192   NaN         Closed  12:00-14:00 17:30-21:30   \n",
      "16133         SGDD00961   NaN         Closed              11:00-22:15   \n",
      "16134  4-C2AHJVATN7C2RE   NaN         Closed              09:00-22:00   \n",
      "16135  4-C2DXFEK2R6KJTJ   NaN         Closed                   Closed   \n",
      "\n",
      "                           mon                      tue  \\\n",
      "0                  10:30-21:15              10:30-21:15   \n",
      "1                  12:00-19:00              12:00-19:00   \n",
      "2                  11:30-20:45              11:30-20:45   \n",
      "3                  11:00-21:00              11:00-21:00   \n",
      "4                  11:00-21:30              11:00-21:30   \n",
      "...                        ...                      ...   \n",
      "16131              07:00-13:00                   Closed   \n",
      "16132  12:00-14:00 17:30-21:30  12:00-14:00 17:30-21:30   \n",
      "16133  11:00-14:45 18:00-22:15                   Closed   \n",
      "16134              06:30-22:00              06:30-22:00   \n",
      "16135              07:00-15:00              07:00-15:00   \n",
      "\n",
      "                           wed                      thu          fri  \\\n",
      "0                  10:30-21:15              10:30-21:15  10:30-21:15   \n",
      "1                  12:00-19:00              12:00-19:00  12:00-19:00   \n",
      "2                  11:30-20:45              11:30-20:45  11:30-20:45   \n",
      "3                  11:00-21:00              11:00-21:00  11:00-21:00   \n",
      "4                  11:00-21:30              11:00-21:30  11:00-21:30   \n",
      "...                        ...                      ...          ...   \n",
      "16131                   Closed                   Closed       Closed   \n",
      "16132  12:00-14:00 17:30-21:30  12:00-14:00 17:30-21:30  12:00-14:00   \n",
      "16133  11:00-14:45 18:00-22:15  11:00-14:45 18:00-22:15  11:00-22:45   \n",
      "16134              06:30-22:00              06:30-22:00  06:30-22:00   \n",
      "16135              07:00-15:00              07:00-15:00  07:00-15:00   \n",
      "\n",
      "               sat tempClosed  \n",
      "0      10:30-21:30        NaN  \n",
      "1      12:00-19:00        NaN  \n",
      "2      11:30-20:45        NaN  \n",
      "3      11:00-21:00        NaN  \n",
      "4      11:00-21:30        NaN  \n",
      "...            ...        ...  \n",
      "16131       Closed       True  \n",
      "16132  12:00-14:00        NaN  \n",
      "16133  11:00-22:45        NaN  \n",
      "16134  06:30-22:00        NaN  \n",
      "16135  07:00-15:00        NaN  \n",
      "\n",
      "[16136 rows x 11 columns]\n"
     ]
    }
   ],
   "source": [
    "# Joining id_source column from grab_df to op_hours_dict_df_expanded\n",
    "openinghour_df = pd.concat([grab_df[[\"id_source\"]], op_hours_dict_df_expanded], axis=1, sort=False)\n",
    "                  \n",
    "print(openinghour_df)"
   ]
  },
  {
   "cell_type": "markdown",
   "id": "6b4bd25a",
   "metadata": {},
   "source": [
    "#### Adding index column with prefix"
   ]
  },
  {
   "cell_type": "code",
   "execution_count": 9,
   "id": "ed1f30d6",
   "metadata": {},
   "outputs": [
    {
     "name": "stdout",
     "output_type": "stream",
     "text": [
      "      openinghour_id         id_source  open displayedHours  \\\n",
      "0               op_1         SGDD01085  True    10:30-21:30   \n",
      "1               op_2  4-CYTDLPUJEP53N6  True    12:00-19:00   \n",
      "2               op_3         SGDD05605  True    11:30-20:45   \n",
      "3               op_4         SGDD07548  True    11:00-21:00   \n",
      "4               op_5  4-CY2ZLZLTT2EDJ2  True    10:30-21:00   \n",
      "...              ...               ...   ...            ...   \n",
      "16131       op_16132  4-CZNFTYKKVA3UN2   NaN         Closed   \n",
      "16132       op_16133         SGDD01192   NaN         Closed   \n",
      "16133       op_16134         SGDD00961   NaN         Closed   \n",
      "16134       op_16135  4-C2AHJVATN7C2RE   NaN         Closed   \n",
      "16135       op_16136  4-C2DXFEK2R6KJTJ   NaN         Closed   \n",
      "\n",
      "                           sun                      mon  \\\n",
      "0                  10:30-21:30              10:30-21:15   \n",
      "1                  12:00-19:00              12:00-19:00   \n",
      "2                  11:30-20:45              11:30-20:45   \n",
      "3                  11:00-21:00              11:00-21:00   \n",
      "4                  11:00-21:30              11:00-21:30   \n",
      "...                        ...                      ...   \n",
      "16131                   Closed              07:00-13:00   \n",
      "16132  12:00-14:00 17:30-21:30  12:00-14:00 17:30-21:30   \n",
      "16133              11:00-22:15  11:00-14:45 18:00-22:15   \n",
      "16134              09:00-22:00              06:30-22:00   \n",
      "16135                   Closed              07:00-15:00   \n",
      "\n",
      "                           tue                      wed  \\\n",
      "0                  10:30-21:15              10:30-21:15   \n",
      "1                  12:00-19:00              12:00-19:00   \n",
      "2                  11:30-20:45              11:30-20:45   \n",
      "3                  11:00-21:00              11:00-21:00   \n",
      "4                  11:00-21:30              11:00-21:30   \n",
      "...                        ...                      ...   \n",
      "16131                   Closed                   Closed   \n",
      "16132  12:00-14:00 17:30-21:30  12:00-14:00 17:30-21:30   \n",
      "16133                   Closed  11:00-14:45 18:00-22:15   \n",
      "16134              06:30-22:00              06:30-22:00   \n",
      "16135              07:00-15:00              07:00-15:00   \n",
      "\n",
      "                           thu          fri          sat tempClosed  \n",
      "0                  10:30-21:15  10:30-21:15  10:30-21:30        NaN  \n",
      "1                  12:00-19:00  12:00-19:00  12:00-19:00        NaN  \n",
      "2                  11:30-20:45  11:30-20:45  11:30-20:45        NaN  \n",
      "3                  11:00-21:00  11:00-21:00  11:00-21:00        NaN  \n",
      "4                  11:00-21:30  11:00-21:30  11:00-21:30        NaN  \n",
      "...                        ...          ...          ...        ...  \n",
      "16131                   Closed       Closed       Closed       True  \n",
      "16132  12:00-14:00 17:30-21:30  12:00-14:00  12:00-14:00        NaN  \n",
      "16133  11:00-14:45 18:00-22:15  11:00-22:45  11:00-22:45        NaN  \n",
      "16134              06:30-22:00  06:30-22:00  06:30-22:00        NaN  \n",
      "16135              07:00-15:00  07:00-15:00  07:00-15:00        NaN  \n",
      "\n",
      "[16136 rows x 12 columns]\n"
     ]
    }
   ],
   "source": [
    "# Create a new index column and add a prefix\n",
    "openinghour_df['openinghour_id'] = 'op_' + (openinghour_df.index + 1).astype(str)\n",
    "\n",
    "# Set new index column to be the first column\n",
    "openinghour_df = openinghour_df.set_index('openinghour_id').reset_index()\n",
    "\n",
    "print(openinghour_df)"
   ]
  },
  {
   "cell_type": "code",
   "execution_count": 10,
   "id": "28ea5863",
   "metadata": {},
   "outputs": [
    {
     "name": "stdout",
     "output_type": "stream",
     "text": [
      "Total number of NaN values in the DataFrame: 21830\n"
     ]
    }
   ],
   "source": [
    "import numpy as np\n",
    "\n",
    "# Count no. of NaN in dataframe\n",
    "nan_count = openinghour_df.isna().sum().sum()\n",
    "\n",
    "print(f'Total number of NaN values in the DataFrame: {nan_count}')"
   ]
  },
  {
   "cell_type": "code",
   "execution_count": 11,
   "id": "70ec5654",
   "metadata": {
    "scrolled": true
   },
   "outputs": [
    {
     "name": "stdout",
     "output_type": "stream",
     "text": [
      "openinghour_id        0\n",
      "id_source             0\n",
      "open               8981\n",
      "displayedHours        0\n",
      "sun                   0\n",
      "mon                   0\n",
      "tue                   0\n",
      "wed                   0\n",
      "thu                   0\n",
      "fri                   0\n",
      "sat                   0\n",
      "tempClosed        12849\n",
      "dtype: int64\n"
     ]
    }
   ],
   "source": [
    "# Number of NaN values for each column\n",
    "nan_count_per_column_df = openinghour_df.isna().sum()\n",
    "\n",
    "print(nan_count_per_column_df)"
   ]
  },
  {
   "cell_type": "code",
   "execution_count": null,
   "id": "c1479313",
   "metadata": {},
   "outputs": [],
   "source": []
  },
  {
   "cell_type": "code",
   "execution_count": 12,
   "id": "6c3e44a6",
   "metadata": {},
   "outputs": [
    {
     "name": "stdout",
     "output_type": "stream",
     "text": [
      "3287\n"
     ]
    }
   ],
   "source": [
    "# No. of establishment minus no. of tempClosed equals 'NaN'\n",
    "count_open = 16136-12849\n",
    "print(count_open)"
   ]
  },
  {
   "cell_type": "code",
   "execution_count": 13,
   "id": "8843069a",
   "metadata": {},
   "outputs": [
    {
     "name": "stdout",
     "output_type": "stream",
     "text": [
      "Total no. of rows of tempClosed establishment = 3287\n"
     ]
    }
   ],
   "source": [
    "# Create a new DataFrame based on the condition Open=NaN and tempClosed=True\n",
    "opennull_tempclosetrue = openinghour_df[pd.isna(openinghour_df['open']) & (openinghour_df['tempClosed'] == 'True')]\n",
    "\n",
    "print('Total no. of rows of tempClosed establishment = ' + str(len(opennull_tempclosetrue)))"
   ]
  },
  {
   "cell_type": "code",
   "execution_count": 14,
   "id": "23dd87e7",
   "metadata": {},
   "outputs": [
    {
     "name": "stdout",
     "output_type": "stream",
     "text": [
      "Total no. of rows of (tempClosed is NaN) establishment = 12849\n"
     ]
    }
   ],
   "source": [
    "# Create a new DataFrame based on the condition tempClosed=True\n",
    "tempclosedtrue = openinghour_df[pd.isna(openinghour_df['tempClosed'])]\n",
    "\n",
    "print('Total no. of rows of (tempClosed is NaN) establishment = ' + str(len(tempclosedtrue)))"
   ]
  },
  {
   "cell_type": "code",
   "execution_count": 15,
   "id": "6d609e3f",
   "metadata": {},
   "outputs": [
    {
     "name": "stdout",
     "output_type": "stream",
     "text": [
      "Total no. of rows of (open == \"True\") establishment = 7155\n"
     ]
    }
   ],
   "source": [
    "# Create a new DataFrame based on the condition open=NaN\n",
    "opentrue = openinghour_df[(openinghour_df['open'] == 'True')]\n",
    "\n",
    "print('Total no. of rows of (open == \"True\") establishment = ' + str(len(opentrue)))"
   ]
  },
  {
   "cell_type": "markdown",
   "id": "fc139add",
   "metadata": {},
   "source": [
    "### There are 12849 - 7155 = 5694 establishment with  open==NaN and tempClosed==NaN"
   ]
  },
  {
   "cell_type": "code",
   "execution_count": 16,
   "id": "59893417",
   "metadata": {},
   "outputs": [
    {
     "data": {
      "text/plain": [
       "5694"
      ]
     },
     "execution_count": 16,
     "metadata": {},
     "output_type": "execute_result"
    }
   ],
   "source": [
    "12849-7155"
   ]
  },
  {
   "cell_type": "code",
   "execution_count": 17,
   "id": "20a66f24",
   "metadata": {},
   "outputs": [
    {
     "name": "stdout",
     "output_type": "stream",
     "text": [
      "Total no. of rows of (open == \"NaN\" and tempClosed == \"NaN\") establishment = 5694\n",
      "    openinghour_id         id_source open displayedHours  \\\n",
      "351         op_352  4-CY22C4LVJNAJL2  NaN         Closed   \n",
      "363         op_364  4-CY4GN2MGHF3JCA  NaN         Closed   \n",
      "364         op_365  4-CZDVVZKBRTVTBE  NaN         Closed   \n",
      "371         op_372  4-CZKER762C62GRN  NaN         Closed   \n",
      "372         op_373         SGDD02751  NaN         Closed   \n",
      "\n",
      "                         sun                      mon  \\\n",
      "351  11:00-16:55 17:00-20:45                   Closed   \n",
      "363              11:30-20:00              11:30-20:00   \n",
      "364  12:00-14:30 17:00-20:15  12:00-14:30 17:00-20:15   \n",
      "371                   Closed              10:00-13:00   \n",
      "372              10:00-20:00              10:00-20:00   \n",
      "\n",
      "                         tue                      wed  \\\n",
      "351                   Closed                   Closed   \n",
      "363              11:30-20:00              11:30-20:00   \n",
      "364  12:00-14:30 17:00-20:15  12:00-14:30 17:00-20:15   \n",
      "371              10:00-13:00              10:00-13:00   \n",
      "372              10:00-20:00              10:00-20:00   \n",
      "\n",
      "                         thu                      fri  \\\n",
      "351                   Closed                   Closed   \n",
      "363              11:30-20:00              11:30-20:00   \n",
      "364  12:00-14:30 17:00-20:15  12:00-14:30 17:00-20:15   \n",
      "371              10:00-13:00              10:00-13:00   \n",
      "372              10:00-20:00              10:00-20:00   \n",
      "\n",
      "                         sat tempClosed  \n",
      "351                   Closed        NaN  \n",
      "363              11:30-20:00        NaN  \n",
      "364  12:00-14:30 17:00-20:15        NaN  \n",
      "371              10:00-13:00        NaN  \n",
      "372              10:00-20:00        NaN  \n",
      "<class 'pandas.core.frame.DataFrame'>\n"
     ]
    }
   ],
   "source": [
    "# Create a new DataFrame based on the condition open=NaN and tempClosed=NaN\n",
    "opennull_tempClosednull = openinghour_df[pd.isna(openinghour_df['open']) & pd.isna(openinghour_df['tempClosed'])]\n",
    "\n",
    "print('Total no. of rows of (open == \"NaN\" and tempClosed == \"NaN\") establishment = ' + str(len(opennull_tempClosednull)))\n",
    "print(opennull_tempClosednull.head())\n",
    "print(type(opennull_tempClosednull))"
   ]
  },
  {
   "cell_type": "code",
   "execution_count": 18,
   "id": "4bd9e515",
   "metadata": {},
   "outputs": [
    {
     "data": {
      "text/html": [
       "<div>\n",
       "<style scoped>\n",
       "    .dataframe tbody tr th:only-of-type {\n",
       "        vertical-align: middle;\n",
       "    }\n",
       "\n",
       "    .dataframe tbody tr th {\n",
       "        vertical-align: top;\n",
       "    }\n",
       "\n",
       "    .dataframe thead th {\n",
       "        text-align: right;\n",
       "    }\n",
       "</style>\n",
       "<table border=\"1\" class=\"dataframe\">\n",
       "  <thead>\n",
       "    <tr style=\"text-align: right;\">\n",
       "      <th></th>\n",
       "      <th>address</th>\n",
       "      <th>id_source</th>\n",
       "    </tr>\n",
       "  </thead>\n",
       "  <tbody>\n",
       "    <tr>\n",
       "      <th>0</th>\n",
       "      <td>Texas Chicken - VivoCity</td>\n",
       "      <td>SGDD01085</td>\n",
       "    </tr>\n",
       "    <tr>\n",
       "      <th>1</th>\n",
       "      <td>Subway - Vivocity</td>\n",
       "      <td>4-CYTDLPUJEP53N6</td>\n",
       "    </tr>\n",
       "    <tr>\n",
       "      <th>2</th>\n",
       "      <td>LiHO Tea - Vivo City</td>\n",
       "      <td>SGDD05605</td>\n",
       "    </tr>\n",
       "    <tr>\n",
       "      <th>3</th>\n",
       "      <td>Wingstop - VivoCity</td>\n",
       "      <td>SGDD07548</td>\n",
       "    </tr>\n",
       "    <tr>\n",
       "      <th>4</th>\n",
       "      <td>Le Shrimp Ramen - Vivocity</td>\n",
       "      <td>4-CY2ZLZLTT2EDJ2</td>\n",
       "    </tr>\n",
       "  </tbody>\n",
       "</table>\n",
       "</div>"
      ],
      "text/plain": [
       "                      address         id_source\n",
       "0    Texas Chicken - VivoCity         SGDD01085\n",
       "1           Subway - Vivocity  4-CYTDLPUJEP53N6\n",
       "2        LiHO Tea - Vivo City         SGDD05605\n",
       "3         Wingstop - VivoCity         SGDD07548\n",
       "4  Le Shrimp Ramen - Vivocity  4-CY2ZLZLTT2EDJ2"
      ]
     },
     "execution_count": 18,
     "metadata": {},
     "output_type": "execute_result"
    }
   ],
   "source": [
    "#Subsetting grab_df with address and id_source\n",
    "grab_df[[\"address\",\"id_source\"]].head()"
   ]
  },
  {
   "cell_type": "code",
   "execution_count": 19,
   "id": "847045ca",
   "metadata": {},
   "outputs": [
    {
     "data": {
      "text/html": [
       "<div>\n",
       "<style scoped>\n",
       "    .dataframe tbody tr th:only-of-type {\n",
       "        vertical-align: middle;\n",
       "    }\n",
       "\n",
       "    .dataframe tbody tr th {\n",
       "        vertical-align: top;\n",
       "    }\n",
       "\n",
       "    .dataframe thead th {\n",
       "        text-align: right;\n",
       "    }\n",
       "</style>\n",
       "<table border=\"1\" class=\"dataframe\">\n",
       "  <thead>\n",
       "    <tr style=\"text-align: right;\">\n",
       "      <th></th>\n",
       "      <th>address</th>\n",
       "      <th>id_source</th>\n",
       "      <th>openinghour_id</th>\n",
       "      <th>open</th>\n",
       "      <th>displayedHours</th>\n",
       "      <th>sun</th>\n",
       "      <th>mon</th>\n",
       "      <th>tue</th>\n",
       "      <th>wed</th>\n",
       "      <th>thu</th>\n",
       "      <th>fri</th>\n",
       "      <th>sat</th>\n",
       "      <th>tempClosed</th>\n",
       "    </tr>\n",
       "  </thead>\n",
       "  <tbody>\n",
       "    <tr>\n",
       "      <th>0</th>\n",
       "      <td>Alijiang 阿里疆- Vivocity</td>\n",
       "      <td>4-CY22C4LVJNAJL2</td>\n",
       "      <td>op_352</td>\n",
       "      <td>NaN</td>\n",
       "      <td>Closed</td>\n",
       "      <td>11:00-16:55 17:00-20:45</td>\n",
       "      <td>Closed</td>\n",
       "      <td>Closed</td>\n",
       "      <td>Closed</td>\n",
       "      <td>Closed</td>\n",
       "      <td>Closed</td>\n",
       "      <td>Closed</td>\n",
       "      <td>NaN</td>\n",
       "    </tr>\n",
       "    <tr>\n",
       "      <th>1</th>\n",
       "      <td>Bottles &amp; Bottles - Vivocity</td>\n",
       "      <td>4-CY4GN2MGHF3JCA</td>\n",
       "      <td>op_364</td>\n",
       "      <td>NaN</td>\n",
       "      <td>Closed</td>\n",
       "      <td>11:30-20:00</td>\n",
       "      <td>11:30-20:00</td>\n",
       "      <td>11:30-20:00</td>\n",
       "      <td>11:30-20:00</td>\n",
       "      <td>11:30-20:00</td>\n",
       "      <td>11:30-20:00</td>\n",
       "      <td>11:30-20:00</td>\n",
       "      <td>NaN</td>\n",
       "    </tr>\n",
       "    <tr>\n",
       "      <th>2</th>\n",
       "      <td>Royal Taj - Mess Hall - Village Hotel</td>\n",
       "      <td>4-CZDVVZKBRTVTBE</td>\n",
       "      <td>op_365</td>\n",
       "      <td>NaN</td>\n",
       "      <td>Closed</td>\n",
       "      <td>12:00-14:30 17:00-20:15</td>\n",
       "      <td>12:00-14:30 17:00-20:15</td>\n",
       "      <td>12:00-14:30 17:00-20:15</td>\n",
       "      <td>12:00-14:30 17:00-20:15</td>\n",
       "      <td>12:00-14:30 17:00-20:15</td>\n",
       "      <td>12:00-14:30 17:00-20:15</td>\n",
       "      <td>12:00-14:30 17:00-20:15</td>\n",
       "      <td>NaN</td>\n",
       "    </tr>\n",
       "    <tr>\n",
       "      <th>3</th>\n",
       "      <td>Kheng Nam Lee Curry Rice - Seah Im Food Centre</td>\n",
       "      <td>4-CZKER762C62GRN</td>\n",
       "      <td>op_372</td>\n",
       "      <td>NaN</td>\n",
       "      <td>Closed</td>\n",
       "      <td>Closed</td>\n",
       "      <td>10:00-13:00</td>\n",
       "      <td>10:00-13:00</td>\n",
       "      <td>10:00-13:00</td>\n",
       "      <td>10:00-13:00</td>\n",
       "      <td>10:00-13:00</td>\n",
       "      <td>10:00-13:00</td>\n",
       "      <td>NaN</td>\n",
       "    </tr>\n",
       "    <tr>\n",
       "      <th>4</th>\n",
       "      <td>A-One Claypot House - VivoCity</td>\n",
       "      <td>SGDD02751</td>\n",
       "      <td>op_373</td>\n",
       "      <td>NaN</td>\n",
       "      <td>Closed</td>\n",
       "      <td>10:00-20:00</td>\n",
       "      <td>10:00-20:00</td>\n",
       "      <td>10:00-20:00</td>\n",
       "      <td>10:00-20:00</td>\n",
       "      <td>10:00-20:00</td>\n",
       "      <td>10:00-20:00</td>\n",
       "      <td>10:00-20:00</td>\n",
       "      <td>NaN</td>\n",
       "    </tr>\n",
       "  </tbody>\n",
       "</table>\n",
       "</div>"
      ],
      "text/plain": [
       "                                          address         id_source  \\\n",
       "0                          Alijiang 阿里疆- Vivocity  4-CY22C4LVJNAJL2   \n",
       "1                    Bottles & Bottles - Vivocity  4-CY4GN2MGHF3JCA   \n",
       "2           Royal Taj - Mess Hall - Village Hotel  4-CZDVVZKBRTVTBE   \n",
       "3  Kheng Nam Lee Curry Rice - Seah Im Food Centre  4-CZKER762C62GRN   \n",
       "4                  A-One Claypot House - VivoCity         SGDD02751   \n",
       "\n",
       "  openinghour_id open displayedHours                      sun  \\\n",
       "0         op_352  NaN         Closed  11:00-16:55 17:00-20:45   \n",
       "1         op_364  NaN         Closed              11:30-20:00   \n",
       "2         op_365  NaN         Closed  12:00-14:30 17:00-20:15   \n",
       "3         op_372  NaN         Closed                   Closed   \n",
       "4         op_373  NaN         Closed              10:00-20:00   \n",
       "\n",
       "                       mon                      tue                      wed  \\\n",
       "0                   Closed                   Closed                   Closed   \n",
       "1              11:30-20:00              11:30-20:00              11:30-20:00   \n",
       "2  12:00-14:30 17:00-20:15  12:00-14:30 17:00-20:15  12:00-14:30 17:00-20:15   \n",
       "3              10:00-13:00              10:00-13:00              10:00-13:00   \n",
       "4              10:00-20:00              10:00-20:00              10:00-20:00   \n",
       "\n",
       "                       thu                      fri                      sat  \\\n",
       "0                   Closed                   Closed                   Closed   \n",
       "1              11:30-20:00              11:30-20:00              11:30-20:00   \n",
       "2  12:00-14:30 17:00-20:15  12:00-14:30 17:00-20:15  12:00-14:30 17:00-20:15   \n",
       "3              10:00-13:00              10:00-13:00              10:00-13:00   \n",
       "4              10:00-20:00              10:00-20:00              10:00-20:00   \n",
       "\n",
       "  tempClosed  \n",
       "0        NaN  \n",
       "1        NaN  \n",
       "2        NaN  \n",
       "3        NaN  \n",
       "4        NaN  "
      ]
     },
     "execution_count": 19,
     "metadata": {},
     "output_type": "execute_result"
    }
   ],
   "source": [
    "# Performing an inner join on the 'id_source' column to include 'address' column to opennull_tempClosednull\n",
    "#syntax for .merge >> inner_joined_df = df1.merge(df2, on='key', how='inner')\n",
    "\n",
    "opennull_tempClosednull_address = grab_df[[\"address\",\"id_source\"]].merge(opennull_tempClosednull, on='id_source', how='inner')\n",
    "opennull_tempClosednull_address.head()"
   ]
  },
  {
   "cell_type": "markdown",
   "id": "2ec359e4",
   "metadata": {},
   "source": [
    "### Based checking on first 5 establishments at time of interim project, they are currently opened, meaning they were not permanently closed at time of dataset. Therefore, for sake of analysis in our project, it is assumed that all entries with open=NaN and tempClosed=NaN are not closed permanently and therefore included in the analysis of the dataset."
   ]
  },
  {
   "cell_type": "markdown",
   "id": "5da69362",
   "metadata": {},
   "source": [
    "#### Replacing open=NaN to True and tempClosed=NaN to False for rows with open=NaN & tempClosed=NaN"
   ]
  },
  {
   "cell_type": "code",
   "execution_count": 20,
   "id": "756074ac",
   "metadata": {},
   "outputs": [
    {
     "data": {
      "text/plain": [
       "openinghour_id                     op_352\n",
       "id_source                4-CY22C4LVJNAJL2\n",
       "open                                 True\n",
       "displayedHours                     Closed\n",
       "sun               11:00-16:55 17:00-20:45\n",
       "mon                                Closed\n",
       "tue                                Closed\n",
       "wed                                Closed\n",
       "thu                                Closed\n",
       "fri                                Closed\n",
       "sat                                Closed\n",
       "tempClosed                          False\n",
       "Name: 351, dtype: object"
      ]
     },
     "execution_count": 20,
     "metadata": {},
     "output_type": "execute_result"
    }
   ],
   "source": [
    "# Conditionally fill NaN values in open with 'True' and in tempClosed with 'False'\n",
    "openinghour_df.loc[openinghour_df['open'].isna() & openinghour_df['tempClosed'].isna(), ['open', 'tempClosed']] = [True, False]\n",
    "\n",
    "#to check filling of NaN values for open=NaN and tempClosed=NaN \n",
    "openinghour_df.iloc[351]"
   ]
  },
  {
   "cell_type": "markdown",
   "id": "ba50030f",
   "metadata": {},
   "source": [
    "#### For open=true and tempClosed=NaN, replace tempClosed=NaN to False\n",
    "#### For open=NaN and tempClosed=true, replace open=NaN to False\n",
    "#### For any of the days not = 'Closed', replace open to True and tempClosed to False"
   ]
  },
  {
   "cell_type": "code",
   "execution_count": 21,
   "id": "1e8dcdf3",
   "metadata": {
    "scrolled": true
   },
   "outputs": [
    {
     "data": {
      "text/html": [
       "<div>\n",
       "<style scoped>\n",
       "    .dataframe tbody tr th:only-of-type {\n",
       "        vertical-align: middle;\n",
       "    }\n",
       "\n",
       "    .dataframe tbody tr th {\n",
       "        vertical-align: top;\n",
       "    }\n",
       "\n",
       "    .dataframe thead th {\n",
       "        text-align: right;\n",
       "    }\n",
       "</style>\n",
       "<table border=\"1\" class=\"dataframe\">\n",
       "  <thead>\n",
       "    <tr style=\"text-align: right;\">\n",
       "      <th></th>\n",
       "      <th>openinghour_id</th>\n",
       "      <th>id_source</th>\n",
       "      <th>open</th>\n",
       "      <th>displayedHours</th>\n",
       "      <th>sun</th>\n",
       "      <th>mon</th>\n",
       "      <th>tue</th>\n",
       "      <th>wed</th>\n",
       "      <th>thu</th>\n",
       "      <th>fri</th>\n",
       "      <th>sat</th>\n",
       "      <th>tempClosed</th>\n",
       "    </tr>\n",
       "  </thead>\n",
       "  <tbody>\n",
       "    <tr>\n",
       "      <th>16131</th>\n",
       "      <td>op_16132</td>\n",
       "      <td>4-CZNFTYKKVA3UN2</td>\n",
       "      <td>True</td>\n",
       "      <td>Closed</td>\n",
       "      <td>Closed</td>\n",
       "      <td>07:00-13:00</td>\n",
       "      <td>Closed</td>\n",
       "      <td>Closed</td>\n",
       "      <td>Closed</td>\n",
       "      <td>Closed</td>\n",
       "      <td>Closed</td>\n",
       "      <td>False</td>\n",
       "    </tr>\n",
       "    <tr>\n",
       "      <th>16132</th>\n",
       "      <td>op_16133</td>\n",
       "      <td>SGDD01192</td>\n",
       "      <td>True</td>\n",
       "      <td>Closed</td>\n",
       "      <td>12:00-14:00 17:30-21:30</td>\n",
       "      <td>12:00-14:00 17:30-21:30</td>\n",
       "      <td>12:00-14:00 17:30-21:30</td>\n",
       "      <td>12:00-14:00 17:30-21:30</td>\n",
       "      <td>12:00-14:00 17:30-21:30</td>\n",
       "      <td>12:00-14:00</td>\n",
       "      <td>12:00-14:00</td>\n",
       "      <td>False</td>\n",
       "    </tr>\n",
       "    <tr>\n",
       "      <th>16133</th>\n",
       "      <td>op_16134</td>\n",
       "      <td>SGDD00961</td>\n",
       "      <td>True</td>\n",
       "      <td>Closed</td>\n",
       "      <td>11:00-22:15</td>\n",
       "      <td>11:00-14:45 18:00-22:15</td>\n",
       "      <td>Closed</td>\n",
       "      <td>11:00-14:45 18:00-22:15</td>\n",
       "      <td>11:00-14:45 18:00-22:15</td>\n",
       "      <td>11:00-22:45</td>\n",
       "      <td>11:00-22:45</td>\n",
       "      <td>False</td>\n",
       "    </tr>\n",
       "    <tr>\n",
       "      <th>16134</th>\n",
       "      <td>op_16135</td>\n",
       "      <td>4-C2AHJVATN7C2RE</td>\n",
       "      <td>True</td>\n",
       "      <td>Closed</td>\n",
       "      <td>09:00-22:00</td>\n",
       "      <td>06:30-22:00</td>\n",
       "      <td>06:30-22:00</td>\n",
       "      <td>06:30-22:00</td>\n",
       "      <td>06:30-22:00</td>\n",
       "      <td>06:30-22:00</td>\n",
       "      <td>06:30-22:00</td>\n",
       "      <td>False</td>\n",
       "    </tr>\n",
       "    <tr>\n",
       "      <th>16135</th>\n",
       "      <td>op_16136</td>\n",
       "      <td>4-C2DXFEK2R6KJTJ</td>\n",
       "      <td>True</td>\n",
       "      <td>Closed</td>\n",
       "      <td>Closed</td>\n",
       "      <td>07:00-15:00</td>\n",
       "      <td>07:00-15:00</td>\n",
       "      <td>07:00-15:00</td>\n",
       "      <td>07:00-15:00</td>\n",
       "      <td>07:00-15:00</td>\n",
       "      <td>07:00-15:00</td>\n",
       "      <td>False</td>\n",
       "    </tr>\n",
       "  </tbody>\n",
       "</table>\n",
       "</div>"
      ],
      "text/plain": [
       "      openinghour_id         id_source  open displayedHours  \\\n",
       "16131       op_16132  4-CZNFTYKKVA3UN2  True         Closed   \n",
       "16132       op_16133         SGDD01192  True         Closed   \n",
       "16133       op_16134         SGDD00961  True         Closed   \n",
       "16134       op_16135  4-C2AHJVATN7C2RE  True         Closed   \n",
       "16135       op_16136  4-C2DXFEK2R6KJTJ  True         Closed   \n",
       "\n",
       "                           sun                      mon  \\\n",
       "16131                   Closed              07:00-13:00   \n",
       "16132  12:00-14:00 17:30-21:30  12:00-14:00 17:30-21:30   \n",
       "16133              11:00-22:15  11:00-14:45 18:00-22:15   \n",
       "16134              09:00-22:00              06:30-22:00   \n",
       "16135                   Closed              07:00-15:00   \n",
       "\n",
       "                           tue                      wed  \\\n",
       "16131                   Closed                   Closed   \n",
       "16132  12:00-14:00 17:30-21:30  12:00-14:00 17:30-21:30   \n",
       "16133                   Closed  11:00-14:45 18:00-22:15   \n",
       "16134              06:30-22:00              06:30-22:00   \n",
       "16135              07:00-15:00              07:00-15:00   \n",
       "\n",
       "                           thu          fri          sat tempClosed  \n",
       "16131                   Closed       Closed       Closed      False  \n",
       "16132  12:00-14:00 17:30-21:30  12:00-14:00  12:00-14:00      False  \n",
       "16133  11:00-14:45 18:00-22:15  11:00-22:45  11:00-22:45      False  \n",
       "16134              06:30-22:00  06:30-22:00  06:30-22:00      False  \n",
       "16135              07:00-15:00  07:00-15:00  07:00-15:00      False  "
      ]
     },
     "execution_count": 21,
     "metadata": {},
     "output_type": "execute_result"
    }
   ],
   "source": [
    "# Conditionally fill NaN values in tempClosed with 'False'\n",
    "openinghour_df.loc[openinghour_df['tempClosed'].isna(), ['tempClosed']] = ['False']\n",
    "\n",
    "# Conditionally fill NaN values in open with 'False'\n",
    "openinghour_df.loc[openinghour_df['open'].isna(), ['open']] = ['False']\n",
    "\n",
    "# Update 'open' to True and 'tempClosed' to False where any of the days are not = 'Closed'\n",
    "openinghour_df.loc[(openinghour_df['displayedHours'] != 'closed') \n",
    "                     | (openinghour_df['sun'] != 'Closed') \n",
    "                     | (openinghour_df['mon'] != 'Closed')\n",
    "                     | (openinghour_df['tue'] != 'Closed') \n",
    "                     | (openinghour_df['wed'] != 'Closed')\n",
    "                     | (openinghour_df['thu'] != 'Closed') \n",
    "                     | (openinghour_df['fri'] != 'Closed')\n",
    "                     | (openinghour_df['sat'] != 'Closed') \n",
    "                     , ['open', 'tempClosed']] = [True, False]\n",
    "\n",
    "openinghour_df.tail()"
   ]
  },
  {
   "cell_type": "markdown",
   "id": "e4e424c0",
   "metadata": {},
   "source": [
    "#### 9 establishment where displayedHours and all days are = 'Closed'"
   ]
  },
  {
   "cell_type": "markdown",
   "id": "285f0954",
   "metadata": {},
   "source": [
    "# should we drop this 9 rows? some are mix n match, some arenot closed on google. MAYBE, they not using grab anymore?"
   ]
  },
  {
   "cell_type": "code",
   "execution_count": 22,
   "id": "7f50660a",
   "metadata": {},
   "outputs": [
    {
     "name": "stdout",
     "output_type": "stream",
     "text": [
      "9\n",
      "                                             address         id_source  \\\n",
      "0                 FOODQA-BJ_SG's Sea Resto GKMM Mart  4-CZEXEPEWN6KKEN   \n",
      "1             Mix & Match Malls (Food) - Jurong East  4-C2CXV7CFKA4FWA   \n",
      "2     Heng Kee Bak Kut Teh & Kway Chap - Tradehub 21  4-CY42TJB2CVEZEA   \n",
      "3          Mix & Match Malls (Food) - Jurong Gateway  4-C2DTNY4JUETHLX   \n",
      "4                     Monti A Casa - Botanic Gardens  4-CZDGPAEGT22ERT   \n",
      "5  Jewel Changi Airport L1 and L2 - Mix & Match -...  4-CZJZV4JFC6EXRA   \n",
      "6                      Changi Airport T3 Mix & Match  4-CZM1EUBUVUD3AX   \n",
      "7  Jewel Changi Airport B1 and B2 - Mix & Match -...  4-C2CVJXAEC2B1EX   \n",
      "8                     Sin Cuisine - Cheng San Centre  4-CZD1AP61NJWBJX   \n",
      "\n",
      "  openinghour_id  open displayedHours     sun     mon     tue     wed     thu  \\\n",
      "0        op_1032  True         Closed  Closed  Closed  Closed  Closed  Closed   \n",
      "1        op_4907  True         Closed  Closed  Closed  Closed  Closed  Closed   \n",
      "2        op_5182  True         Closed  Closed  Closed  Closed  Closed  Closed   \n",
      "3        op_5404  True         Closed  Closed  Closed  Closed  Closed  Closed   \n",
      "4        op_5434  True         Closed  Closed  Closed  Closed  Closed  Closed   \n",
      "5        op_7544  True         Closed  Closed  Closed  Closed  Closed  Closed   \n",
      "6        op_7892  True         Closed  Closed  Closed  Closed  Closed  Closed   \n",
      "7        op_7976  True         Closed  Closed  Closed  Closed  Closed  Closed   \n",
      "8       op_12966  True         Closed  Closed  Closed  Closed  Closed  Closed   \n",
      "\n",
      "      fri     sat tempClosed  \n",
      "0  Closed  Closed      False  \n",
      "1  Closed  Closed      False  \n",
      "2  Closed  Closed      False  \n",
      "3  Closed  Closed      False  \n",
      "4  Closed  Closed      False  \n",
      "5  Closed  Closed      False  \n",
      "6  Closed  Closed      False  \n",
      "7  Closed  Closed      False  \n",
      "8  Closed  Closed      False  \n"
     ]
    }
   ],
   "source": [
    "#displaying rows where displayedHours and all days are = 'Closed'\n",
    "all_closed = openinghour_df[(openinghour_df['displayedHours'] == 'Closed')\n",
    "                             & (openinghour_df['sun'] == 'Closed') \n",
    "                             & (openinghour_df['mon'] == 'Closed')\n",
    "                             & (openinghour_df['tue'] == 'Closed') \n",
    "                             & (openinghour_df['wed'] == 'Closed')\n",
    "                             & (openinghour_df['thu'] == 'Closed') \n",
    "                             & (openinghour_df['fri'] == 'Closed')\n",
    "                             & (openinghour_df['sat'] == 'Closed')] \n",
    "                     \n",
    "# Update 'open' to False and 'tempClosed' to True where displayedHours and all days are = 'Closed'\n",
    "print(len(all_closed))\n",
    "\n",
    "all_closed_address = grab_df[[\"address\",\"id_source\"]].merge(all_closed, on='id_source', how='inner')\n",
    "print(all_closed_address)\n"
   ]
  },
  {
   "cell_type": "markdown",
   "id": "24bc775e",
   "metadata": {},
   "source": [
    "### Saving dataframe to csv"
   ]
  },
  {
   "cell_type": "code",
   "execution_count": 23,
   "id": "4db71e7c",
   "metadata": {},
   "outputs": [],
   "source": [
    "#Saving new_df to csv\n",
    "openinghour_df.to_csv('openinghour_df.csv', index = False)"
   ]
  },
  {
   "cell_type": "code",
   "execution_count": null,
   "id": "91fdc2e4",
   "metadata": {},
   "outputs": [],
   "source": []
  }
 ],
 "metadata": {
  "kernelspec": {
   "display_name": "Python 3 (ipykernel)",
   "language": "python",
   "name": "python3"
  },
  "language_info": {
   "codemirror_mode": {
    "name": "ipython",
    "version": 3
   },
   "file_extension": ".py",
   "mimetype": "text/x-python",
   "name": "python",
   "nbconvert_exporter": "python",
   "pygments_lexer": "ipython3",
   "version": "3.11.5"
  }
 },
 "nbformat": 4,
 "nbformat_minor": 5
}
